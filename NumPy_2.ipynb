{
  "nbformat": 4,
  "nbformat_minor": 0,
  "metadata": {
    "colab": {
      "provenance": [],
      "collapsed_sections": [],
      "authorship_tag": "ABX9TyNYvDGFOQFSTpD4Vz5ry1hP",
      "include_colab_link": true
    },
    "kernelspec": {
      "name": "python3",
      "display_name": "Python 3"
    },
    "language_info": {
      "name": "python"
    }
  },
  "cells": [
    {
      "cell_type": "markdown",
      "metadata": {
        "id": "view-in-github",
        "colab_type": "text"
      },
      "source": [
        "<a href=\"https://colab.research.google.com/github/Dashnyam7/DIC/blob/main/NumPy_2.ipynb\" target=\"_parent\"><img src=\"https://colab.research.google.com/assets/colab-badge.svg\" alt=\"Open In Colab\"/></a>"
      ]
    },
    {
      "cell_type": "code",
      "execution_count": 2,
      "metadata": {
        "id": "yd8fhoiDb45r"
      },
      "outputs": [],
      "source": [
        "import numpy as np"
      ]
    },
    {
      "cell_type": "markdown",
      "source": [
        "Get difference between elements"
      ],
      "metadata": {
        "id": "hwDmD-Zmb704"
      }
    },
    {
      "cell_type": "code",
      "source": [
        "l = np.array([ 1, 1, 5, 2, 4])\n",
        "np.diff(l)"
      ],
      "metadata": {
        "colab": {
          "base_uri": "https://localhost:8080/"
        },
        "id": "o2SXMN-qb7ls",
        "outputId": "e0d774ce-2a8c-4dbd-8823-4a4b706d83a3"
      },
      "execution_count": 8,
      "outputs": [
        {
          "output_type": "execute_result",
          "data": {
            "text/plain": [
              "array([ 0,  4, -3,  2])"
            ]
          },
          "metadata": {},
          "execution_count": 8
        }
      ]
    },
    {
      "cell_type": "markdown",
      "source": [
        "Concenatetion of elements"
      ],
      "metadata": {
        "id": "s20ycM9qeTJU"
      }
    },
    {
      "cell_type": "code",
      "source": [
        "a = np.array([1, 2, 3])\n",
        "b = np.array([4, 5, 6])\n",
        "np.concatenate([a , b])"
      ],
      "metadata": {
        "id": "aAeLk13rdECi"
      },
      "execution_count": null,
      "outputs": []
    },
    {
      "cell_type": "code",
      "source": [
        "c = np.array([[1, 2, 3], [4, 5, 6]])\n",
        "d = np.array([[10, 20], [30, 40]])\n",
        "np.concatenate([c, d], axis=1)"
      ],
      "metadata": {
        "id": "6TGueJLvdS4C"
      },
      "execution_count": null,
      "outputs": []
    },
    {
      "cell_type": "code",
      "source": [
        "e = np.array([[1, 2, 3], [4, 5, 6]])\n",
        "f = np.array([[10, 20, 30], [40, 50, 60]])\n",
        "np.vstack([e, f])"
      ],
      "metadata": {
        "id": "b5YDtFB2d51K"
      },
      "execution_count": null,
      "outputs": []
    },
    {
      "cell_type": "markdown",
      "source": [
        "Splitting a 2 dimensional array"
      ],
      "metadata": {
        "id": "Tc--aRzfeYVR"
      }
    },
    {
      "cell_type": "code",
      "source": [
        "a = np.array([[1, 2, 10], [3, 4, 20], [5, 6, 30], [7, 8, 40]])\n",
        "col1, col2 = np.hsplit(a, [2])  #ehnii 2 elementuudiig 1 bagana bolgong\n",
        "col1"
      ],
      "metadata": {
        "id": "yvWxA9UheOK3"
      },
      "execution_count": null,
      "outputs": []
    },
    {
      "cell_type": "code",
      "source": [
        "col2"
      ],
      "metadata": {
        "id": "ZWs3lwgaezT4"
      },
      "execution_count": null,
      "outputs": []
    },
    {
      "cell_type": "code",
      "source": [
        "row1, row2 = np.vsplit(a, [2])   #ehnii 2 mur\n",
        "row1"
      ],
      "metadata": {
        "colab": {
          "base_uri": "https://localhost:8080/"
        },
        "id": "jJW5OVFDe2G1",
        "outputId": "c3f9172d-0261-4c60-8f0d-e46fba79cca4"
      },
      "execution_count": 30,
      "outputs": [
        {
          "output_type": "execute_result",
          "data": {
            "text/plain": [
              "array([[ 1,  2, 10],\n",
              "       [ 3,  4, 20]])"
            ]
          },
          "metadata": {},
          "execution_count": 30
        }
      ]
    },
    {
      "cell_type": "code",
      "source": [
        "row2"
      ],
      "metadata": {
        "id": "_06sSaw7fLzd"
      },
      "execution_count": null,
      "outputs": []
    },
    {
      "cell_type": "markdown",
      "source": [
        "Transposing 2D array"
      ],
      "metadata": {
        "id": "R4-hMdjMfSy6"
      }
    },
    {
      "cell_type": "markdown",
      "source": [
        "Adding dimensions"
      ],
      "metadata": {
        "id": "H9YfWnC0fq8X"
      }
    },
    {
      "cell_type": "code",
      "source": [
        "a"
      ],
      "metadata": {
        "id": "D-LZpIvofeCC"
      },
      "execution_count": null,
      "outputs": []
    },
    {
      "cell_type": "code",
      "source": [
        "a = np.array([[1, 2, 3], [4, 5, 6], [7, 8, 9]])   #transpose\n",
        "a.T"
      ],
      "metadata": {
        "id": "lqcCz8CJfWGb"
      },
      "execution_count": null,
      "outputs": []
    },
    {
      "cell_type": "code",
      "source": [
        "a = np.array([1, 2, 3])\n",
        "a[np.newaxis, : ]     #add x directions"
      ],
      "metadata": {
        "id": "jeIfuop2ftc4"
      },
      "execution_count": null,
      "outputs": []
    },
    {
      "cell_type": "code",
      "source": [
        "a[: , np.newaxis]     #add y directions"
      ],
      "metadata": {
        "id": "ln9nA80igEdC"
      },
      "execution_count": null,
      "outputs": []
    },
    {
      "cell_type": "markdown",
      "source": [
        "Generate grid data"
      ],
      "metadata": {
        "id": "ANYkHauTgUcw"
      }
    },
    {
      "cell_type": "code",
      "source": [
        "x = np.array([1, 2, 3, 4])\n",
        "y = np.array([5, 6, 7])\n",
        "xx, yy = np.meshgrid(x, y)\n",
        "xx"
      ],
      "metadata": {
        "colab": {
          "base_uri": "https://localhost:8080/"
        },
        "id": "qCqnmQpsgWkg",
        "outputId": "4fa0dcdb-1690-46e3-b082-eaf01f543d29"
      },
      "execution_count": 41,
      "outputs": [
        {
          "output_type": "execute_result",
          "data": {
            "text/plain": [
              "array([[1, 2, 3, 4],\n",
              "       [1, 2, 3, 4],\n",
              "       [1, 2, 3, 4]])"
            ]
          },
          "metadata": {},
          "execution_count": 41
        }
      ]
    },
    {
      "cell_type": "code",
      "source": [
        "yy"
      ],
      "metadata": {
        "colab": {
          "base_uri": "https://localhost:8080/"
        },
        "id": "rlvLDE6Tgh2N",
        "outputId": "6745cd24-74f6-41c5-db47-925369005f0f"
      },
      "execution_count": 39,
      "outputs": [
        {
          "output_type": "execute_result",
          "data": {
            "text/plain": [
              "array([[5, 5, 5, 5],\n",
              "       [6, 6, 6, 6],\n",
              "       [7, 7, 7, 7]])"
            ]
          },
          "metadata": {},
          "execution_count": 39
        }
      ]
    }
  ]
}