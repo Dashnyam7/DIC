{
  "nbformat": 4,
  "nbformat_minor": 0,
  "metadata": {
    "colab": {
      "provenance": [],
      "collapsed_sections": [],
      "authorship_tag": "ABX9TyM/ZXJ4eMyZgrvu5SmwLFjB",
      "include_colab_link": true
    },
    "kernelspec": {
      "name": "python3",
      "display_name": "Python 3"
    },
    "language_info": {
      "name": "python"
    }
  },
  "cells": [
    {
      "cell_type": "markdown",
      "metadata": {
        "id": "view-in-github",
        "colab_type": "text"
      },
      "source": [
        "<a href=\"https://colab.research.google.com/github/Dashnyam7/DIC/blob/main/Matplot_2.ipynb\" target=\"_parent\"><img src=\"https://colab.research.google.com/assets/colab-badge.svg\" alt=\"Open In Colab\"/></a>"
      ]
    },
    {
      "cell_type": "markdown",
      "source": [
        "# Scatter plot"
      ],
      "metadata": {
        "id": "k0weBRFfG4kx"
      }
    },
    {
      "cell_type": "markdown",
      "source": [
        "Scatter plot --> relationship between 2 types of data from the distribution of points"
      ],
      "metadata": {
        "id": "KOkacKKCHAgc"
      }
    },
    {
      "cell_type": "markdown",
      "source": [
        "## drawing a scatterplot"
      ],
      "metadata": {
        "id": "So1xsC0lHeT8"
      }
    },
    {
      "cell_type": "code",
      "execution_count": null,
      "metadata": {
        "colab": {
          "base_uri": "https://localhost:8080/",
          "height": 265
        },
        "id": "uolrTvvmCxIr",
        "outputId": "6e0be4fb-8847-4341-b3d4-af8110cb34f5"
      },
      "outputs": [
        {
          "output_type": "display_data",
          "data": {
            "text/plain": [
              "<Figure size 432x288 with 1 Axes>"
            ],
            "image/png": "[encoded data removed]"
          },
          "metadata": {
            "needs_background": "light"
          }
        }
      ],
      "source": [
        "import matplotlib.pyplot as plt\n",
        "\n",
        "science_score = [43, 78, 73, 86, 89, 61, 84, 66, 87, 89]\n",
        "math_score = [51, 71, 69, 82, 80, 60, 88, 56, 85, 99]\n",
        "\n",
        "fig, ax = plt.subplots()\n",
        "ax.scatter(science_score, math_score)\n",
        "plt.show()"
      ]
    },
    {
      "cell_type": "markdown",
      "source": [
        "## Change the marker style"
      ],
      "metadata": {
        "id": "RTU2JKMsILb8"
      }
    },
    {
      "cell_type": "code",
      "source": [
        "fig, ax = plt.subplots()\n",
        "ax.scatter(science_score, math_score, marker='*')\n",
        "plt.show()"
      ],
      "metadata": {
        "colab": {
          "base_uri": "https://localhost:8080/",
          "height": 265
        },
        "id": "lo01knh3HwFl",
        "outputId": "eabd2082-4b95-4b7e-ecb2-7d1ad86ab884"
      },
      "execution_count": null,
      "outputs": [
        {
          "output_type": "display_data",
          "data": {
            "text/plain": [
              "<Figure size 432x288 with 1 Axes>"
            ],
            "image/png": "[encoded data removed]"
          },
          "metadata": {
            "needs_background": "light"
          }
        }
      ]
    },
    {
      "cell_type": "markdown",
      "source": [
        "## Drawing a scatterplot matrix"
      ],
      "metadata": {
        "id": "U2y2vgOdInSz"
      }
    },
    {
      "cell_type": "code",
      "source": [
        "from pandas.plotting import scatter_matrix\n",
        "import pandas as pd\n",
        "\n",
        "df = pd.DataFrame([[\"A\", 43, 51, 81, 61, 65],\n",
        "                   [\"B\", 78, 71, 83, 88, 86],\n",
        "                   [\"C\", 73, 69, 89, 51, 69],\n",
        "                   [\"D\", 86, 82, 87, 85, 62],\n",
        "                   [\"E\", 89, 80, 77, 55, 63],\n",
        "                   [\"F\", 61, 60, 86, 90, 90],\n",
        "                   [\"G\", 84, 88, 65, 74, 84],\n",
        "                   [\"H\", 66, 56, 98, 84, 72],\n",
        "                   [\"I\", 87, 85, 56, 58, 51],\n",
        "                   [\"J\", 89, 99, 88, 58, 66]],\n",
        "                   columns=[\"Student\", \"Math\", \"MGL hel\", \"Englsih\", \"Society\", \"science\"]\n",
        "                   )\n",
        "df"
      ],
      "metadata": {
        "colab": {
          "base_uri": "https://localhost:8080/",
          "height": 363
        },
        "id": "6M1IK6MMItIF",
        "outputId": "4ab1a6a1-f40f-4f4c-8909-4ae4330168ef"
      },
      "execution_count": null,
      "outputs": [
        {
          "output_type": "execute_result",
          "data": {
            "text/plain": [
              "  Student  Math  MGL hel  Englsih  Society  science\n",
              "0       A    43       51       81       61       65\n",
              "1       B    78       71       83       88       86\n",
              "2       C    73       69       89       51       69\n",
              "3       D    86       82       87       85       62\n",
              "4       E    89       80       77       55       63\n",
              "5       F    61       60       86       90       90\n",
              "6       G    84       88       65       74       84\n",
              "7       H    66       56       98       84       72\n",
              "8       I    87       85       56       58       51\n",
              "9       J    89       99       88       58       66"
            ],
            "text/html": [
              "\n",
              "  <div id=\"df-fd09891e-2c55-455b-ac6c-b88fd671fb64\">\n",
              "    <div class=\"colab-df-container\">\n",
              "      <div>\n",
              "<style scoped>\n",
              "    .dataframe tbody tr th:only-of-type {\n",
              "        vertical-align: middle;\n",
              "    }\n",
              "\n",
              "    .dataframe tbody tr th {\n",
              "        vertical-align: top;\n",
              "    }\n",
              "\n",
              "    .dataframe thead th {\n",
              "        text-align: right;\n",
              "    }\n",
              "</style>\n",
              "<table border=\"1\" class=\"dataframe\">\n",
              "  <thead>\n",
              "    <tr style=\"text-align: right;\">\n",
              "      <th></th>\n",
              "      <th>Student</th>\n",
              "      <th>Math</th>\n",
              "      <th>MGL hel</th>\n",
              "      <th>Englsih</th>\n",
              "      <th>Society</th>\n",
              "      <th>science</th>\n",
              "    </tr>\n",
              "  </thead>\n",
              "  <tbody>\n",
              "    <tr>\n",
              "      <th>0</th>\n",
              "      <td>A</td>\n",
              "      <td>43</td>\n",
              "      <td>51</td>\n",
              "      <td>81</td>\n",
              "      <td>61</td>\n",
              "      <td>65</td>\n",
              "    </tr>\n",
              "    <tr>\n",
              "      <th>1</th>\n",
              "      <td>B</td>\n",
              "      <td>78</td>\n",
              "      <td>71</td>\n",
              "      <td>83</td>\n",
              "      <td>88</td>\n",
              "      <td>86</td>\n",
              "    </tr>\n",
              "    <tr>\n",
              "      <th>2</th>\n",
              "      <td>C</td>\n",
              "      <td>73</td>\n",
              "      <td>69</td>\n",
              "      <td>89</td>\n",
              "      <td>51</td>\n",
              "      <td>69</td>\n",
              "    </tr>\n",
              "    <tr>\n",
              "      <th>3</th>\n",
              "      <td>D</td>\n",
              "      <td>86</td>\n",
              "      <td>82</td>\n",
              "      <td>87</td>\n",
              "      <td>85</td>\n",
              "      <td>62</td>\n",
              "    </tr>\n",
              "    <tr>\n",
              "      <th>4</th>\n",
              "      <td>E</td>\n",
              "      <td>89</td>\n",
              "      <td>80</td>\n",
              "      <td>77</td>\n",
              "      <td>55</td>\n",
              "      <td>63</td>\n",
              "    </tr>\n",
              "    <tr>\n",
              "      <th>5</th>\n",
              "      <td>F</td>\n",
              "      <td>61</td>\n",
              "      <td>60</td>\n",
              "      <td>86</td>\n",
              "      <td>90</td>\n",
              "      <td>90</td>\n",
              "    </tr>\n",
              "    <tr>\n",
              "      <th>6</th>\n",
              "      <td>G</td>\n",
              "      <td>84</td>\n",
              "      <td>88</td>\n",
              "      <td>65</td>\n",
              "      <td>74</td>\n",
              "      <td>84</td>\n",
              "    </tr>\n",
              "    <tr>\n",
              "      <th>7</th>\n",
              "      <td>H</td>\n",
              "      <td>66</td>\n",
              "      <td>56</td>\n",
              "      <td>98</td>\n",
              "      <td>84</td>\n",
              "      <td>72</td>\n",
              "    </tr>\n",
              "    <tr>\n",
              "      <th>8</th>\n",
              "      <td>I</td>\n",
              "      <td>87</td>\n",
              "      <td>85</td>\n",
              "      <td>56</td>\n",
              "      <td>58</td>\n",
              "      <td>51</td>\n",
              "    </tr>\n",
              "    <tr>\n",
              "      <th>9</th>\n",
              "      <td>J</td>\n",
              "      <td>89</td>\n",
              "      <td>99</td>\n",
              "      <td>88</td>\n",
              "      <td>58</td>\n",
              "      <td>66</td>\n",
              "    </tr>\n",
              "  </tbody>\n",
              "</table>\n",
              "</div>\n",
              "      <button class=\"colab-df-convert\" onclick=\"convertToInteractive('df-fd09891e-2c55-455b-ac6c-b88fd671fb64')\"\n",
              "              title=\"Convert this dataframe to an interactive table.\"\n",
              "              style=\"display:none;\">\n",
              "        \n",
              "  <svg xmlns=\"http://www.w3.org/2000/svg\" height=\"24px\"viewBox=\"0 0 24 24\"\n",
              "       width=\"24px\">\n",
              "    <path d=\"M0 0h24v24H0V0z\" fill=\"none\"/>\n",
              "    <path d=\"M18.56 5.44l.94 2.06.94-2.06 2.06-.94-2.06-.94-.94-2.06-.94 2.06-2.06.94zm-11 1L8.5 8.5l.94-2.06 2.06-.94-2.06-.94L8.5 2.5l-.94 2.06-2.06.94zm10 10l.94 2.06.94-2.06 2.06-.94-2.06-.94-.94-2.06-.94 2.06-2.06.94z\"/><path d=\"M17.41 7.96l-1.37-1.37c-.4-.4-.92-.59-1.43-.59-.52 0-1.04.2-1.43.59L10.3 9.45l-7.72 7.72c-.78.78-.78 2.05 0 2.83L4 21.41c.39.39.9.59 1.41.59.51 0 1.02-.2 1.41-.59l7.78-7.78 2.81-2.81c.8-.78.8-2.07 0-2.86zM5.41 20L4 18.59l7.72-7.72 1.47 1.35L5.41 20z\"/>\n",
              "  </svg>\n",
              "      </button>\n",
              "      \n",
              "  <style>\n",
              "    .colab-df-container {\n",
              "      display:flex;\n",
              "      flex-wrap:wrap;\n",
              "      gap: 12px;\n",
              "    }\n",
              "\n",
              "    .colab-df-convert {\n",
              "      background-color: #E8F0FE;\n",
              "      border: none;\n",
              "      border-radius: 50%;\n",
              "      cursor: pointer;\n",
              "      display: none;\n",
              "      fill: #1967D2;\n",
              "      height: 32px;\n",
              "      padding: 0 0 0 0;\n",
              "      width: 32px;\n",
              "    }\n",
              "\n",
              "    .colab-df-convert:hover {\n",
              "      background-color: #E2EBFA;\n",
              "      box-shadow: 0px 1px 2px rgba(60, 64, 67, 0.3), 0px 1px 3px 1px rgba(60, 64, 67, 0.15);\n",
              "      fill: #174EA6;\n",
              "    }\n",
              "\n",
              "    [theme=dark] .colab-df-convert {\n",
              "      background-color: #3B4455;\n",
              "      fill: #D2E3FC;\n",
              "    }\n",
              "\n",
              "    [theme=dark] .colab-df-convert:hover {\n",
              "      background-color: #434B5C;\n",
              "      box-shadow: 0px 1px 3px 1px rgba(0, 0, 0, 0.15);\n",
              "      filter: drop-shadow(0px 1px 2px rgba(0, 0, 0, 0.3));\n",
              "      fill: #FFFFFF;\n",
              "    }\n",
              "  </style>\n",
              "\n",
              "      <script>\n",
              "        const buttonEl =\n",
              "          document.querySelector('#df-fd09891e-2c55-455b-ac6c-b88fd671fb64 button.colab-df-convert');\n",
              "        buttonEl.style.display =\n",
              "          google.colab.kernel.accessAllowed ? 'block' : 'none';\n",
              "\n",
              "        async function convertToInteractive(key) {\n",
              "          const element = document.querySelector('#df-fd09891e-2c55-455b-ac6c-b88fd671fb64');\n",
              "          const dataTable =\n",
              "            await google.colab.kernel.invokeFunction('convertToInteractive',\n",
              "                                                     [key], {});\n",
              "          if (!dataTable) return;\n",
              "\n",
              "          const docLinkHtml = 'Like what you see? Visit the ' +\n",
              "            '<a target=\"_blank\" href=https://colab.research.google.com/notebooks/data_table.ipynb>data table notebook</a>'\n",
              "            + ' to learn more about interactive tables.';\n",
              "          element.innerHTML = '';\n",
              "          dataTable['output_type'] = 'display_data';\n",
              "          await google.colab.output.renderOutput(dataTable, element);\n",
              "          const docLink = document.createElement('div');\n",
              "          docLink.innerHTML = docLinkHtml;\n",
              "          element.appendChild(docLink);\n",
              "        }\n",
              "      </script>\n",
              "    </div>\n",
              "  </div>\n",
              "  "
            ]
          },
          "metadata": {},
          "execution_count": 8
        }
      ]
    },
    {
      "cell_type": "markdown",
      "source": [
        "scatterplot matrix display"
      ],
      "metadata": {
        "id": "TkSWkfYHJQIK"
      }
    },
    {
      "cell_type": "code",
      "source": [
        "from pandas.plotting import scatter_matrix\n",
        "pd.plotting.scatter_matrix(df)\n",
        "plt.show()"
      ],
      "metadata": {
        "colab": {
          "base_uri": "https://localhost:8080/",
          "height": 284
        },
        "id": "iwPUsoSbJVCV",
        "outputId": "4d6a193f-26f1-424f-f8ee-a6280ed725fa"
      },
      "execution_count": null,
      "outputs": [
        {
          "output_type": "display_data",
          "data": {
            "text/plain": [
              "<Figure size 432x288 with 25 Axes>"
            ],
            "image/png": "[encoded data removed]"
          },
          "metadata": {
            "needs_background": "light"
          }
        }
      ]
    },
    {
      "cell_type": "markdown",
      "source": [
        "# Histogram"
      ],
      "metadata": {
        "id": "Gh36f7GaJrcM"
      }
    },
    {
      "cell_type": "markdown",
      "source": [
        "## Drawing histogram"
      ],
      "metadata": {
        "id": "u8HshwYIJ8_n"
      }
    },
    {
      "cell_type": "code",
      "source": [
        "import numpy as np\n",
        "np.random.seed(123)\n",
        "mu = 40\n",
        "sigma = 5\n",
        "x = np.random.normal(mu, sigma, 1000)\n",
        "age_list = [round(age) for age in x]\n",
        "print(age_list)"
      ],
      "metadata": {
        "colab": {
          "base_uri": "https://localhost:8080/"
        },
        "id": "0mwfGZMbJvEP",
        "outputId": "2137a23c-68f8-448d-e243-136972ec42b7"
      },
      "execution_count": null,
      "outputs": [
        {
          "output_type": "stream",
          "name": "stdout",
          "text": [
            "[35, 45, 41, 32, 37, 48, 28, 38, 46, 36, 37, 40, 47, 37, 38, 38, 51, 51, 45, 42, 44, 47, 35, 46, 34, 37, 45, 33, 39, 36, 39, 26, 31, 37, 45, 39, 40, 43, 36, 41, 36, 31, 38, 43, 42, 40, 52, 42, 45, 51, 34, 35, 49, 36, 40, 45, 44, 49, 47, 45, 36, 44, 42, 33, 47, 44, 40, 39, 34, 41, 42, 36, 46, 35, 29, 45, 38, 39, 36, 32, 46, 37, 48, 44, 38, 35, 36, 34, 50, 41, 46, 34, 41, 46, 38, 45, 35, 33, 42, 38, 43, 30, 44, 53, 40, 40, 41, 31, 42, 32, 38, 46, 36, 43, 45, 41, 33, 38, 50, 30, 39, 37, 41, 44, 48, 39, 44, 42, 42, 37, 35, 34, 36, 42, 44, 42, 37, 49, 48, 38, 36, 41, 46, 42, 43, 39, 42, 48, 39, 41, 41, 41, 33, 31, 35, 41, 43, 37, 47, 39, 40, 39, 41, 44, 43, 36, 48, 35, 40, 39, 35, 40, 36, 40, 42, 47, 42, 37, 38, 41, 40, 47, 47, 38, 37, 27, 37, 35, 38, 42, 41, 40, 41, 39, 41, 24, 39, 39, 38, 39, 44, 37, 51, 43, 40, 39, 40, 35, 40, 41, 43, 43, 39, 33, 37, 48, 44, 42, 36, 40, 34, 37, 39, 38, 45, 33, 36, 33, 34, 41, 32, 44, 39, 40, 42, 38, 45, 39, 43, 39, 41, 41, 41, 35, 42, 38, 43, 29, 33, 42, 49, 44, 37, 32, 44, 40, 43, 41, 40, 55, 40, 39, 39, 37, 45, 38, 43, 41, 46, 42, 34, 33, 47, 37, 33, 37, 46, 33, 36, 37, 34, 34, 32, 38, 38, 37, 32, 46, 33, 41, 35, 43, 45, 36, 30, 43, 49, 42, 41, 44, 44, 36, 37, 43, 39, 47, 36, 44, 42, 39, 46, 43, 35, 43, 47, 39, 39, 37, 40, 43, 36, 33, 38, 33, 43, 38, 31, 38, 39, 42, 39, 49, 37, 40, 39, 39, 41, 43, 47, 32, 37, 38, 45, 38, 31, 40, 40, 41, 35, 49, 38, 39, 35, 35, 34, 38, 35, 50, 31, 34, 38, 43, 38, 43, 35, 40, 49, 35, 42, 41, 29, 37, 46, 41, 34, 43, 38, 42, 42, 34, 44, 35, 33, 36, 38, 41, 36, 44, 41, 37, 44, 46, 40, 39, 31, 38, 39, 41, 39, 41, 48, 37, 38, 33, 40, 45, 31, 37, 40, 44, 42, 42, 39, 42, 45, 31, 44, 40, 37, 28, 33, 48, 37, 35, 38, 36, 41, 48, 37, 41, 34, 48, 41, 35, 45, 46, 41, 32, 49, 42, 46, 37, 38, 41, 46, 41, 34, 41, 48, 40, 41, 34, 33, 37, 38, 41, 41, 48, 40, 45, 40, 47, 31, 37, 45, 39, 45, 42, 45, 43, 43, 47, 45, 45, 40, 37, 37, 44, 28, 33, 35, 39, 27, 46, 43, 50, 45, 45, 51, 37, 32, 39, 36, 39, 35, 43, 43, 40, 42, 39, 44, 40, 39, 45, 46, 47, 35, 37, 31, 39, 42, 39, 50, 38, 35, 43, 41, 43, 42, 41, 29, 36, 37, 38, 38, 42, 43, 34, 43, 43, 42, 33, 42, 40, 45, 49, 48, 41, 40, 43, 34, 33, 38, 46, 38, 48, 26, 32, 39, 44, 40, 40, 39, 31, 46, 37, 45, 40, 45, 42, 39, 41, 33, 40, 49, 47, 35, 43, 41, 44, 40, 39, 47, 41, 46, 45, 38, 39, 50, 41, 36, 34, 45, 41, 36, 43, 41, 32, 43, 47, 53, 40, 41, 48, 41, 41, 37, 33, 45, 34, 46, 36, 41, 38, 46, 42, 50, 35, 42, 40, 41, 48, 43, 34, 43, 38, 38, 45, 37, 38, 40, 45, 43, 39, 39, 34, 36, 37, 39, 50, 37, 39, 30, 43, 32, 35, 45, 29, 40, 44, 48, 35, 37, 49, 40, 36, 36, 35, 38, 45, 44, 34, 41, 38, 44, 39, 42, 39, 29, 40, 34, 44, 37, 37, 40, 43, 39, 48, 48, 49, 39, 33, 46, 38, 40, 43, 32, 48, 44, 42, 44, 43, 41, 38, 36, 41, 42, 45, 41, 36, 32, 39, 40, 40, 32, 45, 45, 36, 44, 45, 40, 35, 48, 42, 39, 44, 48, 38, 43, 50, 34, 37, 37, 39, 39, 42, 36, 37, 42, 41, 44, 42, 44, 34, 38, 49, 42, 44, 41, 42, 39, 58, 38, 40, 28, 46, 37, 40, 37, 39, 39, 40, 40, 39, 39, 47, 44, 44, 36, 46, 46, 37, 48, 37, 31, 46, 39, 45, 36, 34, 46, 33, 32, 30, 26, 35, 29, 40, 29, 35, 52, 42, 40, 32, 39, 40, 32, 41, 46, 38, 39, 30, 33, 45, 37, 35, 37, 40, 34, 41, 33, 44, 35, 47, 40, 36, 45, 33, 37, 40, 39, 30, 35, 41, 33, 46, 42, 37, 39, 49, 45, 42, 33, 48, 45, 39, 37, 39, 34, 38, 44, 31, 38, 41, 41, 34, 34, 45, 34, 45, 38, 45, 38, 34, 44, 40, 47, 44, 39, 38, 40, 41, 36, 44, 38, 38, 37, 41, 37, 41, 54, 40, 38, 32, 40, 34, 38, 41, 31, 41, 42, 34, 38, 31, 48, 42, 39, 39, 46, 40, 42, 48, 38, 35, 36, 47, 40, 37, 45, 45, 38, 35, 32, 31, 39, 36, 49, 40, 30, 47, 41, 44, 43, 41, 43, 41, 34, 42, 45, 39, 43, 42, 49, 39, 39, 39, 39, 29, 37, 41, 40, 36, 37, 38, 36, 37, 37, 44, 45, 45, 42, 36, 45, 38, 40, 47, 40, 41, 33, 42, 35, 45, 39, 29, 38, 39, 42, 43, 38, 45, 24, 36, 34, 34, 45, 44, 36, 46, 41, 38, 37, 36, 42, 43, 41, 30, 41, 43, 37, 40, 31, 34, 38, 38, 42, 34, 38, 38, 43, 47, 49, 32, 40, 34, 40, 42, 40, 40, 47, 44, 39, 40, 44, 43, 38, 31, 34, 41, 31, 39, 38, 45, 33, 30, 38, 43, 45, 35, 42, 34]\n"
          ]
        }
      ]
    },
    {
      "cell_type": "code",
      "source": [
        "import matplotlib.pyplot as plt\n",
        "# data set\n",
        "np.random.seed(123)\n",
        "mu = 40\n",
        "sigma = 5\n",
        "x = np.random.normal(mu, sigma, 1000)\n",
        "age_list = [round(age) for age in x]\n",
        "#histgtam\n",
        "fig, ax = plt.subplots()\n",
        "ax.set_xlabel('age')\n",
        "ax.set_ylabel('quantity')\n",
        "ax.hist(x)\n",
        "plt.show()"
      ],
      "metadata": {
        "colab": {
          "base_uri": "https://localhost:8080/",
          "height": 283
        },
        "id": "rktVaPXCLqK4",
        "outputId": "dea38826-4e48-4b53-b87a-0816ee7b6a8e"
      },
      "execution_count": null,
      "outputs": [
        {
          "output_type": "display_data",
          "data": {
            "text/plain": [
              "<Figure size 432x288 with 1 Axes>"
            ],
            "image/png": "[encoded data removed]"
          },
          "metadata": {
            "needs_background": "light"
          }
        }
      ]
    },
    {
      "cell_type": "code",
      "source": [
        "np.random.seed(123)\n",
        "mu = 40\n",
        "sigma = 5\n",
        "x = np.random.normal(mu, sigma, 1000)\n",
        "age_list = [round(age) for age in x]\n",
        "#histgtam\n",
        "fig, ax = plt.subplots()\n",
        "ax.set_xlabel('age')\n",
        "ax.set_ylabel('quantity')\n",
        "ax.hist(x, bins=30)\n",
        "plt.show()"
      ],
      "metadata": {
        "colab": {
          "base_uri": "https://localhost:8080/",
          "height": 279
        },
        "id": "kQ4s7I37NBX4",
        "outputId": "dfafdb9d-4d43-47cd-f40f-d15130efc93d"
      },
      "execution_count": null,
      "outputs": [
        {
          "output_type": "display_data",
          "data": {
            "text/plain": [
              "<Figure size 432x288 with 1 Axes>"
            ],
            "image/png": "[encoded data removed]"
          },
          "metadata": {
            "needs_background": "light"
          }
        }
      ]
    },
    {
      "cell_type": "markdown",
      "source": [
        "horizontally"
      ],
      "metadata": {
        "id": "52XijOsDNYt2"
      }
    },
    {
      "cell_type": "code",
      "source": [
        "np.random.seed(123)\n",
        "mu = 40\n",
        "sigma = 5\n",
        "x = np.random.normal(mu, sigma, 1000)\n",
        "age_list = [round(age) for age in x]\n",
        "#histgtam\n",
        "fig, ax = plt.subplots()\n",
        "ax.set_xlabel('age')\n",
        "ax.set_ylabel('quantity')\n",
        "ax.hist(x, bins=40, orientation='horizontal')\n",
        "plt.show()"
      ],
      "metadata": {
        "colab": {
          "base_uri": "https://localhost:8080/",
          "height": 279
        },
        "id": "j8KW4qK_NbgL",
        "outputId": "341ecce7-e6d2-4281-f40e-503499267e49"
      },
      "execution_count": null,
      "outputs": [
        {
          "output_type": "display_data",
          "data": {
            "text/plain": [
              "<Figure size 432x288 with 1 Axes>"
            ],
            "image/png": "[encoded data removed]"
          },
          "metadata": {
            "needs_background": "light"
          }
        }
      ]
    },
    {
      "cell_type": "markdown",
      "source": [
        "## Creating a frequency distribution table"
      ],
      "metadata": {
        "id": "nTbuCMgjNrwm"
      }
    },
    {
      "cell_type": "code",
      "source": [
        "np.random.seed(123)\n",
        "mu = 40\n",
        "sigma = 5\n",
        "x = np.random.normal(mu, sigma, 1000)\n",
        "age_list = [round(age) for age in x]\n",
        "#histgtam\n",
        "fig, ax = plt.subplots()\n",
        "ax.set_xlabel('age')\n",
        "ax.set_ylabel('quantity')\n"
      ],
      "metadata": {
        "id": "VkF2gF2HNrQ2"
      },
      "execution_count": null,
      "outputs": []
    },
    {
      "cell_type": "code",
      "source": [
        "for i, num in enumerate(n):\n",
        "    print('{:.2f} - {:.2f}: {}'.format(bins[i], bins[i + 1], num))"
      ],
      "metadata": {
        "colab": {
          "base_uri": "https://localhost:8080/",
          "height": 183
        },
        "id": "N9CeP-OlOIRG",
        "outputId": "03a6dae3-7a9a-4368-c0a6-c63fda25cad0"
      },
      "execution_count": null,
      "outputs": [
        {
          "output_type": "error",
          "ename": "NameError",
          "evalue": "ignored",
          "traceback": [
            "\u001b[0;31m---------------------------------------------------------------------------\u001b[0m",
            "\u001b[0;31mNameError\u001b[0m                                 Traceback (most recent call last)",
            "\u001b[0;32m<ipython-input-20-69fb2fa9c4c0>\u001b[0m in \u001b[0;36m<module>\u001b[0;34m\u001b[0m\n\u001b[0;32m----> 1\u001b[0;31m \u001b[0;32mfor\u001b[0m \u001b[0mi\u001b[0m\u001b[0;34m,\u001b[0m \u001b[0mnum\u001b[0m \u001b[0;32min\u001b[0m \u001b[0menumerate\u001b[0m\u001b[0;34m(\u001b[0m\u001b[0mn\u001b[0m\u001b[0;34m)\u001b[0m\u001b[0;34m:\u001b[0m\u001b[0;34m\u001b[0m\u001b[0;34m\u001b[0m\u001b[0m\n\u001b[0m\u001b[1;32m      2\u001b[0m     \u001b[0mprint\u001b[0m\u001b[0;34m(\u001b[0m\u001b[0;34m'{:.2f} - {:.2f}: {}'\u001b[0m\u001b[0;34m.\u001b[0m\u001b[0mformat\u001b[0m\u001b[0;34m(\u001b[0m\u001b[0mbins\u001b[0m\u001b[0;34m[\u001b[0m\u001b[0mi\u001b[0m\u001b[0;34m]\u001b[0m\u001b[0;34m,\u001b[0m \u001b[0mbins\u001b[0m\u001b[0;34m[\u001b[0m\u001b[0mi\u001b[0m \u001b[0;34m+\u001b[0m \u001b[0;36m1\u001b[0m\u001b[0;34m]\u001b[0m\u001b[0;34m,\u001b[0m \u001b[0mnum\u001b[0m\u001b[0;34m)\u001b[0m\u001b[0;34m)\u001b[0m\u001b[0;34m\u001b[0m\u001b[0;34m\u001b[0m\u001b[0m\n",
            "\u001b[0;31mNameError\u001b[0m: name 'n' is not defined"
          ]
        }
      ]
    },
    {
      "cell_type": "markdown",
      "source": [
        "## Handle multiple data with histograms"
      ],
      "metadata": {
        "id": "18UUl8F5O66T"
      }
    },
    {
      "cell_type": "code",
      "source": [
        "mu = 40\n",
        "sigma = 5\n",
        "np.random.seed(123)\n",
        "x1 = np.random.normal(mu, sigma, 1000)\n",
        "np.random.seed(124)\n",
        "x2 = np.random.normal(mu, sigma, 1000)\n",
        "np.random.seed(125)\n",
        "x3 = np.random.normal(mu, sigma, 1000)\n",
        "age_list1, age_list2, age_list3 = [round(age) for age in x1], [round(age) for age in x2], [round(age) for age in x3]\n",
        "print(age_list1, age_list2, age_list3)"
      ],
      "metadata": {
        "colab": {
          "base_uri": "https://localhost:8080/"
        },
        "id": "mSXbA-mJO-2l",
        "outputId": "7fe323d7-5d40-4477-91fb-a472daee6384"
      },
      "execution_count": null,
      "outputs": [
        {
          "output_type": "stream",
          "name": "stdout",
          "text": [
            "[35, 45, 41, 32, 37, 48, 28, 38, 46, 36, 37, 40, 47, 37, 38, 38, 51, 51, 45, 42, 44, 47, 35, 46, 34, 37, 45, 33, 39, 36, 39, 26, 31, 37, 45, 39, 40, 43, 36, 41, 36, 31, 38, 43, 42, 40, 52, 42, 45, 51, 34, 35, 49, 36, 40, 45, 44, 49, 47, 45, 36, 44, 42, 33, 47, 44, 40, 39, 34, 41, 42, 36, 46, 35, 29, 45, 38, 39, 36, 32, 46, 37, 48, 44, 38, 35, 36, 34, 50, 41, 46, 34, 41, 46, 38, 45, 35, 33, 42, 38, 43, 30, 44, 53, 40, 40, 41, 31, 42, 32, 38, 46, 36, 43, 45, 41, 33, 38, 50, 30, 39, 37, 41, 44, 48, 39, 44, 42, 42, 37, 35, 34, 36, 42, 44, 42, 37, 49, 48, 38, 36, 41, 46, 42, 43, 39, 42, 48, 39, 41, 41, 41, 33, 31, 35, 41, 43, 37, 47, 39, 40, 39, 41, 44, 43, 36, 48, 35, 40, 39, 35, 40, 36, 40, 42, 47, 42, 37, 38, 41, 40, 47, 47, 38, 37, 27, 37, 35, 38, 42, 41, 40, 41, 39, 41, 24, 39, 39, 38, 39, 44, 37, 51, 43, 40, 39, 40, 35, 40, 41, 43, 43, 39, 33, 37, 48, 44, 42, 36, 40, 34, 37, 39, 38, 45, 33, 36, 33, 34, 41, 32, 44, 39, 40, 42, 38, 45, 39, 43, 39, 41, 41, 41, 35, 42, 38, 43, 29, 33, 42, 49, 44, 37, 32, 44, 40, 43, 41, 40, 55, 40, 39, 39, 37, 45, 38, 43, 41, 46, 42, 34, 33, 47, 37, 33, 37, 46, 33, 36, 37, 34, 34, 32, 38, 38, 37, 32, 46, 33, 41, 35, 43, 45, 36, 30, 43, 49, 42, 41, 44, 44, 36, 37, 43, 39, 47, 36, 44, 42, 39, 46, 43, 35, 43, 47, 39, 39, 37, 40, 43, 36, 33, 38, 33, 43, 38, 31, 38, 39, 42, 39, 49, 37, 40, 39, 39, 41, 43, 47, 32, 37, 38, 45, 38, 31, 40, 40, 41, 35, 49, 38, 39, 35, 35, 34, 38, 35, 50, 31, 34, 38, 43, 38, 43, 35, 40, 49, 35, 42, 41, 29, 37, 46, 41, 34, 43, 38, 42, 42, 34, 44, 35, 33, 36, 38, 41, 36, 44, 41, 37, 44, 46, 40, 39, 31, 38, 39, 41, 39, 41, 48, 37, 38, 33, 40, 45, 31, 37, 40, 44, 42, 42, 39, 42, 45, 31, 44, 40, 37, 28, 33, 48, 37, 35, 38, 36, 41, 48, 37, 41, 34, 48, 41, 35, 45, 46, 41, 32, 49, 42, 46, 37, 38, 41, 46, 41, 34, 41, 48, 40, 41, 34, 33, 37, 38, 41, 41, 48, 40, 45, 40, 47, 31, 37, 45, 39, 45, 42, 45, 43, 43, 47, 45, 45, 40, 37, 37, 44, 28, 33, 35, 39, 27, 46, 43, 50, 45, 45, 51, 37, 32, 39, 36, 39, 35, 43, 43, 40, 42, 39, 44, 40, 39, 45, 46, 47, 35, 37, 31, 39, 42, 39, 50, 38, 35, 43, 41, 43, 42, 41, 29, 36, 37, 38, 38, 42, 43, 34, 43, 43, 42, 33, 42, 40, 45, 49, 48, 41, 40, 43, 34, 33, 38, 46, 38, 48, 26, 32, 39, 44, 40, 40, 39, 31, 46, 37, 45, 40, 45, 42, 39, 41, 33, 40, 49, 47, 35, 43, 41, 44, 40, 39, 47, 41, 46, 45, 38, 39, 50, 41, 36, 34, 45, 41, 36, 43, 41, 32, 43, 47, 53, 40, 41, 48, 41, 41, 37, 33, 45, 34, 46, 36, 41, 38, 46, 42, 50, 35, 42, 40, 41, 48, 43, 34, 43, 38, 38, 45, 37, 38, 40, 45, 43, 39, 39, 34, 36, 37, 39, 50, 37, 39, 30, 43, 32, 35, 45, 29, 40, 44, 48, 35, 37, 49, 40, 36, 36, 35, 38, 45, 44, 34, 41, 38, 44, 39, 42, 39, 29, 40, 34, 44, 37, 37, 40, 43, 39, 48, 48, 49, 39, 33, 46, 38, 40, 43, 32, 48, 44, 42, 44, 43, 41, 38, 36, 41, 42, 45, 41, 36, 32, 39, 40, 40, 32, 45, 45, 36, 44, 45, 40, 35, 48, 42, 39, 44, 48, 38, 43, 50, 34, 37, 37, 39, 39, 42, 36, 37, 42, 41, 44, 42, 44, 34, 38, 49, 42, 44, 41, 42, 39, 58, 38, 40, 28, 46, 37, 40, 37, 39, 39, 40, 40, 39, 39, 47, 44, 44, 36, 46, 46, 37, 48, 37, 31, 46, 39, 45, 36, 34, 46, 33, 32, 30, 26, 35, 29, 40, 29, 35, 52, 42, 40, 32, 39, 40, 32, 41, 46, 38, 39, 30, 33, 45, 37, 35, 37, 40, 34, 41, 33, 44, 35, 47, 40, 36, 45, 33, 37, 40, 39, 30, 35, 41, 33, 46, 42, 37, 39, 49, 45, 42, 33, 48, 45, 39, 37, 39, 34, 38, 44, 31, 38, 41, 41, 34, 34, 45, 34, 45, 38, 45, 38, 34, 44, 40, 47, 44, 39, 38, 40, 41, 36, 44, 38, 38, 37, 41, 37, 41, 54, 40, 38, 32, 40, 34, 38, 41, 31, 41, 42, 34, 38, 31, 48, 42, 39, 39, 46, 40, 42, 48, 38, 35, 36, 47, 40, 37, 45, 45, 38, 35, 32, 31, 39, 36, 49, 40, 30, 47, 41, 44, 43, 41, 43, 41, 34, 42, 45, 39, 43, 42, 49, 39, 39, 39, 39, 29, 37, 41, 40, 36, 37, 38, 36, 37, 37, 44, 45, 45, 42, 36, 45, 38, 40, 47, 40, 41, 33, 42, 35, 45, 39, 29, 38, 39, 42, 43, 38, 45, 24, 36, 34, 34, 45, 44, 36, 46, 41, 38, 37, 36, 42, 43, 41, 30, 41, 43, 37, 40, 31, 34, 38, 38, 42, 34, 38, 38, 43, 47, 49, 32, 40, 34, 40, 42, 40, 40, 47, 44, 39, 40, 44, 43, 38, 31, 34, 41, 31, 39, 38, 45, 33, 30, 38, 43, 45, 35, 42, 34] [41, 38, 33, 52, 33, 36, 35, 48, 45, 36, 35, 41, 42, 40, 34, 39, 44, 41, 33, 44, 29, 46, 41, 35, 44, 40, 39, 39, 44, 35, 42, 38, 41, 29, 43, 41, 40, 40, 44, 28, 43, 46, 44, 46, 41, 39, 50, 37, 38, 34, 43, 44, 48, 40, 36, 42, 34, 44, 43, 38, 42, 37, 40, 41, 42, 38, 40, 42, 34, 44, 45, 42, 38, 40, 30, 44, 39, 42, 42, 35, 40, 39, 50, 30, 46, 43, 46, 43, 46, 37, 45, 40, 50, 51, 47, 38, 41, 40, 48, 41, 32, 46, 28, 35, 35, 43, 51, 42, 36, 42, 43, 38, 44, 41, 37, 39, 42, 38, 39, 40, 45, 33, 35, 48, 46, 35, 47, 43, 32, 49, 38, 42, 38, 41, 36, 46, 34, 41, 36, 38, 39, 43, 36, 39, 48, 31, 44, 42, 39, 38, 37, 43, 40, 46, 41, 40, 45, 46, 39, 34, 44, 43, 41, 34, 43, 35, 37, 43, 37, 40, 43, 47, 37, 40, 48, 36, 44, 40, 42, 41, 32, 43, 34, 40, 41, 49, 43, 40, 35, 37, 38, 50, 34, 41, 48, 38, 36, 33, 37, 37, 49, 37, 36, 48, 42, 33, 36, 42, 37, 30, 45, 42, 35, 44, 33, 36, 39, 40, 37, 47, 50, 41, 44, 41, 43, 34, 40, 48, 42, 37, 48, 43, 43, 37, 42, 40, 37, 46, 36, 37, 46, 41, 42, 49, 45, 46, 46, 34, 31, 35, 37, 39, 39, 41, 31, 40, 33, 41, 45, 40, 40, 43, 47, 41, 38, 38, 50, 42, 47, 43, 45, 39, 41, 40, 38, 54, 47, 46, 32, 37, 44, 32, 42, 42, 35, 38, 34, 46, 33, 46, 31, 46, 45, 33, 42, 44, 39, 35, 33, 40, 34, 41, 48, 49, 35, 41, 35, 41, 39, 45, 36, 41, 44, 40, 40, 41, 41, 41, 38, 33, 42, 44, 38, 40, 43, 40, 48, 33, 37, 39, 37, 40, 38, 37, 43, 47, 37, 39, 41, 45, 30, 38, 41, 37, 40, 44, 40, 32, 38, 42, 42, 35, 45, 43, 41, 36, 46, 29, 37, 40, 42, 52, 34, 38, 46, 38, 40, 35, 34, 42, 38, 36, 35, 36, 42, 43, 41, 37, 26, 37, 30, 43, 42, 37, 36, 27, 46, 42, 40, 36, 46, 41, 36, 29, 39, 40, 38, 37, 48, 40, 35, 45, 39, 40, 47, 41, 43, 40, 48, 45, 49, 40, 29, 37, 40, 39, 36, 33, 41, 45, 42, 32, 33, 40, 42, 37, 37, 32, 43, 40, 38, 41, 33, 32, 36, 43, 40, 38, 43, 31, 51, 43, 39, 34, 44, 35, 34, 42, 36, 36, 42, 33, 42, 38, 33, 40, 43, 42, 37, 48, 38, 43, 41, 44, 40, 41, 42, 43, 34, 36, 51, 37, 35, 45, 29, 37, 42, 25, 44, 42, 34, 34, 39, 33, 36, 47, 39, 38, 26, 43, 37, 37, 38, 34, 42, 47, 41, 45, 44, 44, 42, 44, 41, 40, 35, 48, 39, 35, 35, 40, 39, 41, 36, 40, 42, 42, 38, 46, 46, 41, 33, 34, 32, 38, 41, 43, 32, 35, 40, 31, 36, 30, 54, 41, 41, 37, 37, 41, 46, 46, 48, 40, 42, 33, 52, 50, 43, 30, 39, 30, 51, 47, 46, 37, 41, 35, 42, 33, 35, 37, 48, 40, 47, 46, 42, 42, 39, 41, 44, 32, 45, 40, 47, 46, 35, 36, 41, 38, 41, 42, 38, 39, 35, 28, 42, 36, 38, 39, 44, 34, 44, 43, 40, 34, 39, 34, 42, 48, 43, 33, 38, 51, 32, 41, 42, 38, 43, 41, 37, 36, 46, 34, 39, 38, 34, 41, 41, 40, 44, 37, 41, 40, 38, 47, 31, 45, 43, 47, 46, 43, 40, 37, 37, 38, 41, 33, 43, 38, 38, 31, 39, 36, 26, 48, 37, 44, 32, 48, 38, 29, 37, 50, 44, 43, 37, 34, 36, 39, 37, 43, 45, 47, 34, 29, 41, 38, 46, 53, 38, 39, 49, 42, 48, 33, 38, 44, 36, 30, 37, 45, 37, 40, 45, 42, 37, 48, 45, 34, 26, 38, 44, 44, 44, 31, 47, 41, 42, 46, 49, 34, 40, 42, 45, 46, 35, 47, 33, 46, 42, 43, 42, 39, 32, 43, 43, 46, 41, 40, 36, 40, 41, 34, 39, 45, 28, 47, 43, 45, 44, 47, 46, 46, 42, 38, 40, 42, 40, 27, 44, 43, 38, 37, 34, 41, 34, 50, 31, 37, 37, 42, 46, 41, 38, 38, 43, 41, 45, 39, 44, 41, 38, 32, 36, 33, 45, 40, 40, 42, 41, 37, 38, 49, 43, 31, 44, 46, 44, 37, 47, 42, 43, 32, 46, 35, 39, 33, 43, 42, 32, 48, 38, 37, 41, 31, 37, 40, 47, 45, 45, 34, 47, 43, 48, 41, 50, 40, 46, 46, 38, 38, 36, 45, 46, 39, 38, 43, 29, 39, 37, 47, 43, 38, 35, 30, 44, 48, 43, 43, 29, 39, 45, 45, 42, 39, 35, 47, 45, 45, 43, 44, 42, 33, 46, 41, 35, 42, 36, 47, 40, 38, 39, 40, 43, 47, 40, 39, 38, 34, 41, 38, 37, 44, 38, 39, 34, 33, 40, 36, 41, 34, 38, 34, 43, 42, 39, 36, 28, 43, 37, 46, 41, 35, 35, 47, 41, 36, 44, 37, 46, 47, 35, 41, 34, 40, 44, 42, 39, 46, 43, 38, 38, 42, 38, 38, 33, 41, 39, 39, 44, 36, 41, 47, 39, 31, 37, 32, 36, 43, 44, 46, 39, 44, 40, 42, 42, 39, 42, 42, 38, 45, 42, 32, 34, 47, 34, 40, 43, 37, 43, 45, 49, 47, 38, 32, 42, 37, 34, 42, 42, 36, 38, 50, 40, 31, 28, 39, 40, 51, 52, 47, 41, 40, 46, 41, 38, 52, 45, 42, 41, 32, 37, 36, 38, 40, 36, 46, 42, 39, 37, 40, 41, 40, 39, 38, 39, 42, 43, 37, 46, 33, 46, 30, 34, 47, 31, 42, 37, 32, 45, 44] [37, 40, 35, 42, 42, 38, 27, 41, 38, 53, 36, 38, 41, 46, 46, 41, 38, 36, 39, 42, 28, 38, 38, 44, 38, 40, 41, 39, 38, 54, 40, 35, 45, 34, 36, 38, 34, 40, 37, 39, 40, 44, 36, 43, 37, 36, 38, 34, 36, 42, 42, 42, 42, 46, 40, 37, 33, 34, 46, 42, 40, 31, 39, 46, 48, 40, 41, 48, 33, 44, 41, 41, 51, 36, 45, 35, 32, 34, 44, 48, 42, 45, 49, 47, 37, 32, 38, 47, 40, 38, 44, 38, 46, 37, 37, 45, 31, 37, 42, 42, 35, 37, 43, 36, 42, 44, 43, 40, 36, 38, 37, 28, 37, 40, 54, 40, 41, 41, 37, 40, 37, 37, 37, 40, 39, 39, 39, 45, 41, 38, 47, 33, 26, 44, 36, 40, 43, 35, 39, 45, 35, 37, 43, 41, 47, 48, 44, 46, 44, 38, 39, 43, 41, 43, 45, 40, 44, 39, 34, 40, 51, 42, 37, 33, 36, 48, 46, 37, 45, 31, 41, 41, 38, 42, 37, 39, 39, 45, 43, 48, 30, 35, 39, 37, 41, 33, 45, 37, 47, 47, 44, 30, 40, 42, 41, 37, 27, 44, 44, 44, 37, 45, 38, 44, 42, 37, 45, 39, 50, 42, 40, 36, 45, 45, 47, 36, 42, 48, 37, 45, 34, 30, 39, 37, 46, 42, 35, 40, 36, 43, 42, 32, 40, 42, 42, 38, 53, 37, 46, 45, 44, 43, 42, 51, 40, 48, 44, 41, 41, 47, 39, 40, 36, 41, 45, 37, 36, 41, 42, 28, 39, 42, 43, 47, 33, 37, 40, 42, 47, 46, 41, 38, 45, 40, 41, 36, 41, 40, 39, 48, 48, 32, 38, 38, 38, 38, 33, 37, 40, 35, 36, 52, 43, 47, 43, 41, 49, 39, 41, 40, 40, 46, 41, 36, 42, 40, 36, 43, 37, 37, 39, 50, 39, 34, 38, 42, 37, 39, 47, 47, 38, 39, 37, 42, 39, 41, 46, 44, 41, 50, 41, 47, 47, 41, 36, 41, 37, 38, 39, 44, 39, 33, 32, 41, 35, 44, 48, 46, 38, 37, 44, 37, 39, 46, 48, 42, 34, 38, 37, 33, 44, 40, 35, 44, 37, 51, 44, 31, 37, 35, 38, 38, 36, 39, 38, 31, 41, 40, 40, 39, 41, 37, 41, 49, 46, 44, 44, 44, 39, 44, 43, 37, 36, 43, 32, 38, 42, 33, 42, 36, 51, 23, 38, 36, 36, 46, 37, 49, 36, 43, 46, 35, 34, 35, 44, 40, 39, 38, 41, 43, 45, 56, 43, 38, 43, 40, 35, 46, 48, 41, 41, 30, 42, 44, 41, 46, 37, 44, 45, 43, 34, 50, 37, 40, 46, 39, 32, 40, 53, 43, 46, 42, 46, 34, 39, 41, 40, 43, 36, 31, 37, 35, 39, 45, 47, 45, 46, 46, 40, 48, 46, 47, 33, 44, 39, 41, 39, 40, 46, 37, 39, 43, 39, 40, 41, 39, 37, 36, 40, 45, 40, 39, 38, 44, 37, 35, 32, 41, 39, 46, 35, 32, 42, 45, 39, 36, 36, 30, 45, 35, 45, 39, 47, 43, 33, 35, 36, 36, 50, 38, 42, 40, 39, 43, 33, 32, 43, 36, 45, 49, 44, 41, 35, 45, 45, 40, 43, 29, 40, 43, 37, 45, 35, 39, 36, 39, 52, 38, 41, 42, 37, 38, 42, 38, 43, 34, 38, 40, 42, 41, 38, 37, 50, 46, 41, 42, 44, 39, 46, 44, 39, 36, 41, 33, 42, 44, 47, 41, 43, 39, 50, 53, 45, 37, 45, 32, 42, 43, 34, 41, 40, 34, 41, 49, 39, 41, 35, 46, 30, 45, 40, 43, 42, 47, 43, 47, 41, 44, 43, 41, 32, 42, 42, 35, 28, 44, 45, 35, 36, 43, 46, 42, 38, 52, 46, 42, 32, 35, 43, 40, 35, 40, 49, 45, 41, 48, 40, 42, 40, 37, 38, 38, 38, 34, 40, 40, 38, 47, 46, 48, 40, 33, 44, 42, 27, 44, 48, 41, 38, 45, 38, 34, 36, 40, 37, 45, 42, 35, 44, 34, 36, 41, 42, 44, 39, 36, 45, 42, 47, 39, 40, 47, 46, 40, 46, 40, 35, 50, 40, 34, 43, 36, 43, 38, 45, 36, 36, 40, 39, 46, 44, 39, 42, 43, 37, 36, 47, 40, 35, 38, 35, 28, 40, 36, 36, 46, 32, 48, 39, 45, 32, 46, 35, 44, 40, 35, 43, 31, 36, 33, 30, 43, 38, 45, 42, 46, 47, 34, 40, 37, 41, 44, 45, 40, 38, 39, 42, 36, 38, 33, 43, 43, 43, 38, 39, 46, 52, 32, 38, 45, 37, 36, 35, 36, 45, 41, 36, 40, 32, 42, 40, 40, 45, 40, 42, 41, 36, 48, 48, 43, 45, 33, 34, 35, 42, 43, 44, 46, 43, 43, 40, 37, 41, 37, 39, 43, 51, 39, 32, 45, 38, 40, 44, 45, 37, 39, 44, 35, 42, 36, 33, 33, 34, 49, 40, 41, 39, 38, 46, 41, 33, 41, 49, 33, 37, 39, 40, 46, 47, 47, 38, 40, 41, 45, 49, 44, 41, 37, 48, 39, 37, 38, 47, 40, 38, 33, 44, 39, 39, 33, 45, 45, 33, 34, 42, 37, 32, 31, 45, 47, 37, 38, 38, 36, 46, 38, 41, 38, 41, 38, 45, 32, 32, 32, 43, 36, 36, 42, 34, 37, 42, 40, 37, 37, 36, 37, 37, 40, 38, 35, 37, 34, 35, 37, 41, 48, 44, 45, 49, 52, 44, 32, 41, 42, 40, 43, 38, 37, 35, 50, 45, 44, 43, 43, 38, 44, 32, 43, 42, 44, 40, 39, 37, 47, 40, 44, 31, 40, 38, 36, 42, 34, 37, 42, 51, 47, 41, 43, 47, 31, 42, 45, 44, 46, 39, 37, 44, 40, 36, 45, 36, 49, 38, 45, 42, 42, 36, 37, 41, 45, 30, 40, 41, 42, 35, 39, 45, 45, 40, 36, 34, 44, 39, 44, 46, 41, 41, 41, 37, 40, 32, 40, 40, 40, 35, 35, 42, 38, 45, 41, 40, 49, 40, 35, 45, 49, 53, 35, 40, 35]\n"
          ]
        }
      ]
    },
    {
      "cell_type": "code",
      "source": [
        "fig, ax = plt.subplots()\n",
        "\n",
        "labels = ['Product A', 'Product B', 'Product C']\n",
        "ax.hist((x1, x2, x3), label=labels)\n",
        "ax.legend()\n",
        "plt.show()"
      ],
      "metadata": {
        "colab": {
          "base_uri": "https://localhost:8080/",
          "height": 265
        },
        "id": "_HFhndbYPYgt",
        "outputId": "3b72208a-9f50-43ea-b345-e908a9c37388"
      },
      "execution_count": null,
      "outputs": [
        {
          "output_type": "display_data",
          "data": {
            "text/plain": [
              "<Figure size 432x288 with 1 Axes>"
            ],
            "image/png": "[encoded data removed]"
          },
          "metadata": {
            "needs_background": "light"
          }
        }
      ]
    },
    {
      "cell_type": "markdown",
      "source": [
        "Stacked histogram"
      ],
      "metadata": {
        "id": "veb1tAvxV_Ne"
      }
    },
    {
      "cell_type": "code",
      "source": [
        "fig, ax = plt.subplots()\n",
        "\n",
        "labels = ['Product A', 'Product B', 'Product C']\n",
        "ax.hist((x1, x2, x3), label=labels, stacked=True)\n",
        "ax.legend()\n",
        "plt.show()"
      ],
      "metadata": {
        "colab": {
          "base_uri": "https://localhost:8080/",
          "height": 265
        },
        "id": "pxoxqv1MWA7l",
        "outputId": "73c506d8-07e1-440d-a52e-af827e8e3114"
      },
      "execution_count": 25,
      "outputs": [
        {
          "output_type": "display_data",
          "data": {
            "text/plain": [
              "<Figure size 432x288 with 1 Axes>"
            ],
            "image/png": "[encoded data removed]"
          },
          "metadata": {
            "needs_background": "light"
          }
        }
      ]
    },
    {
      "cell_type": "markdown",
      "source": [
        "# Boxplot"
      ],
      "metadata": {
        "id": "zYM_K_RHWbu6"
      }
    },
    {
      "cell_type": "markdown",
      "source": [
        "commonly used to read trends in stock prices"
      ],
      "metadata": {
        "id": "zmUdu7j7We2F"
      }
    },
    {
      "cell_type": "markdown",
      "source": [
        "## Draw a boxplot"
      ],
      "metadata": {
        "id": "UrVxu0mrWu1C"
      }
    },
    {
      "cell_type": "code",
      "source": [
        "import numpy as np\n",
        "np.random.seed(123)\n",
        "x1 = np.random.normal(0, 10, 1000)\n",
        "x2 = np.random.normal(0, 15, 1000)\n",
        "x3 = np.random.normal(0, 20, 1000)"
      ],
      "metadata": {
        "id": "yrcDVIDvW_qP"
      },
      "execution_count": 26,
      "outputs": []
    },
    {
      "cell_type": "code",
      "source": [
        "import matplotlib.pyplot as plt\n",
        "fig, ax = plt.subplots()\n",
        "labels = ['x1', 'x2', 'x3']\n",
        "ax.boxplot((x1, x2, x3), labels=labels)\n",
        "plt.show()"
      ],
      "metadata": {
        "colab": {
          "base_uri": "https://localhost:8080/",
          "height": 266
        },
        "id": "xQ9vygEcXNdQ",
        "outputId": "724b8878-5c70-4ff2-9008-03ed6252aba0"
      },
      "execution_count": 27,
      "outputs": [
        {
          "output_type": "display_data",
          "data": {
            "text/plain": [
              "<Figure size 432x288 with 1 Axes>"
            ],
            "image/png": "[encoded data removed]"
          },
          "metadata": {
            "needs_background": "light"
          }
        }
      ]
    },
    {
      "cell_type": "markdown",
      "source": [
        "hundlunguur ni harah"
      ],
      "metadata": {
        "id": "4XMee_45Xm8c"
      }
    },
    {
      "cell_type": "code",
      "source": [
        "fig, ax = plt.subplots()\n",
        "ax.boxplot((x1, x2, x3), labels=labels, vert=False)\n",
        "plt.show()"
      ],
      "metadata": {
        "colab": {
          "base_uri": "https://localhost:8080/",
          "height": 265
        },
        "id": "YTfBbQZJXqgh",
        "outputId": "e556ad8f-41b5-43b7-a39d-98d9baeaea65"
      },
      "execution_count": 28,
      "outputs": [
        {
          "output_type": "display_data",
          "data": {
            "text/plain": [
              "<Figure size 432x288 with 1 Axes>"
            ],
            "image/png": "[encoded data removed]"
          },
          "metadata": {
            "needs_background": "light"
          }
        }
      ]
    }
  ]
}