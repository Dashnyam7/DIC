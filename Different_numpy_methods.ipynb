{
  "nbformat": 4,
  "nbformat_minor": 0,
  "metadata": {
    "colab": {
      "provenance": [],
      "collapsed_sections": [],
      "authorship_tag": "ABX9TyO6KOEWtG6rP/LD6D194YkO",
      "include_colab_link": true
    },
    "kernelspec": {
      "name": "python3",
      "display_name": "Python 3"
    },
    "language_info": {
      "name": "python"
    }
  },
  "cells": [
    {
      "cell_type": "markdown",
      "metadata": {
        "id": "view-in-github",
        "colab_type": "text"
      },
      "source": [
        "<a href=\"https://colab.research.google.com/github/Dashnyam7/DIC/blob/main/Different_numpy_methods.ipynb\" target=\"_parent\"><img src=\"https://colab.research.google.com/assets/colab-badge.svg\" alt=\"Open In Colab\"/></a>"
      ]
    },
    {
      "cell_type": "code",
      "execution_count": null,
      "metadata": {
        "id": "ZfIexniPAgLf"
      },
      "outputs": [],
      "source": [
        "import numpy as np\n",
        "a = np.array([1, 2, 3])\n",
        "np.sum(a)"
      ]
    },
    {
      "cell_type": "code",
      "source": [
        "a.sum()"
      ],
      "metadata": {
        "id": "GdBIZeNQCufw"
      },
      "execution_count": null,
      "outputs": []
    },
    {
      "cell_type": "markdown",
      "source": [
        "Deal with data types"
      ],
      "metadata": {
        "id": "lFRBFnH1C5Az"
      }
    },
    {
      "cell_type": "code",
      "source": [
        "a.dtype   #data uusgehed automatoor int64 type uusdg"
      ],
      "metadata": {
        "colab": {
          "base_uri": "https://localhost:8080/"
        },
        "id": "kNRHAndWC7f_",
        "outputId": "7eefcd5e-b035-4c6f-a3ad-9286020658ad"
      },
      "execution_count": 4,
      "outputs": [
        {
          "output_type": "execute_result",
          "data": {
            "text/plain": [
              "dtype('int64')"
            ]
          },
          "metadata": {},
          "execution_count": 4
        }
      ]
    },
    {
      "cell_type": "code",
      "source": [
        "a = np.array([1, 2, 3], dtype=np.int16)   #gej data type solij bolno\n",
        "a"
      ],
      "metadata": {
        "colab": {
          "base_uri": "https://localhost:8080/"
        },
        "id": "eFLgbMggDKC_",
        "outputId": "22b1187a-a130-4d01-d290-303ea3c28ef9"
      },
      "execution_count": 6,
      "outputs": [
        {
          "output_type": "execute_result",
          "data": {
            "text/plain": [
              "array([1, 2, 3], dtype=int16)"
            ]
          },
          "metadata": {},
          "execution_count": 6
        }
      ]
    },
    {
      "cell_type": "code",
      "source": [
        "a.astype(np.float16)   #float ruu huvirgaj bna"
      ],
      "metadata": {
        "colab": {
          "base_uri": "https://localhost:8080/"
        },
        "id": "30PTRhMYDhDl",
        "outputId": "4ce88112-5aec-4dff-f03e-b467f7d03984"
      },
      "execution_count": 7,
      "outputs": [
        {
          "output_type": "execute_result",
          "data": {
            "text/plain": [
              "array([1., 2., 3.], dtype=float16)"
            ]
          },
          "metadata": {},
          "execution_count": 7
        }
      ]
    },
    {
      "cell_type": "markdown",
      "source": [
        "Dimensional transformation: reshape ashiglan hemjees uurchilj bolno"
      ],
      "metadata": {
        "id": "GT9wX6Z-DqlG"
      }
    },
    {
      "cell_type": "code",
      "source": [
        "c1 = np.array([1, 2, 3, 4, 5, 6])\n",
        "c1"
      ],
      "metadata": {
        "id": "Bt68hmTcDpZE"
      },
      "execution_count": null,
      "outputs": []
    },
    {
      "cell_type": "code",
      "source": [
        "c2 = c1.reshape((2,3))    #c1-iin hemjeeg uurchlunu\n",
        "c2"
      ],
      "metadata": {
        "colab": {
          "base_uri": "https://localhost:8080/"
        },
        "id": "68lE3HuaEDOm",
        "outputId": "f263597c-3302-4fd5-97db-cc5b7f301051"
      },
      "execution_count": 15,
      "outputs": [
        {
          "output_type": "execute_result",
          "data": {
            "text/plain": [
              "array([[1, 2, 3],\n",
              "       [4, 5, 6]])"
            ]
          },
          "metadata": {},
          "execution_count": 15
        }
      ]
    },
    {
      "cell_type": "code",
      "source": [
        "c3 = c1.reshape((2, 4))   #aldaa"
      ],
      "metadata": {
        "id": "2OyqZNEVERHJ"
      },
      "execution_count": null,
      "outputs": []
    },
    {
      "cell_type": "markdown",
      "source": [
        "ravel -2D array-g 1D array bolgono"
      ],
      "metadata": {
        "id": "cGBkok_2FDzD"
      }
    },
    {
      "cell_type": "code",
      "source": [
        "c4 = c2.ravel()   #ravel element solihod c2-iinh dagaj soligdono\n",
        "c4"
      ],
      "metadata": {
        "id": "GgF90bg3EarY"
      },
      "execution_count": null,
      "outputs": []
    },
    {
      "cell_type": "code",
      "source": [
        "c5 = c2.flatten()"
      ],
      "metadata": {
        "id": "vZcj2tkVFWbQ"
      },
      "execution_count": 17,
      "outputs": []
    },
    {
      "cell_type": "markdown",
      "source": [
        "Copy"
      ],
      "metadata": {
        "id": "be5PIJ81K-sa"
      }
    },
    {
      "cell_type": "code",
      "source": [
        "a = np.array([1, 2, 3])\n",
        "a"
      ],
      "metadata": {
        "id": "8_Jd-py9LDBu"
      },
      "execution_count": null,
      "outputs": []
    },
    {
      "cell_type": "code",
      "source": [
        "a1 = a\n",
        "a1[2] = 5\n",
        "a1"
      ],
      "metadata": {
        "id": "WYDYnoUmLIIL"
      },
      "execution_count": null,
      "outputs": []
    },
    {
      "cell_type": "code",
      "source": [
        "a   #a1g uurchluhud a-hamt uurchlugdsun"
      ],
      "metadata": {
        "id": "CwTpAz_VLMZo"
      },
      "execution_count": null,
      "outputs": []
    },
    {
      "cell_type": "code",
      "source": [
        "a2 = a.copy()\n",
        "a2"
      ],
      "metadata": {
        "colab": {
          "base_uri": "https://localhost:8080/"
        },
        "id": "F6SlLpfvLWme",
        "outputId": "643903f0-f93b-44c2-92dd-b525a122dd95"
      },
      "execution_count": 22,
      "outputs": [
        {
          "output_type": "execute_result",
          "data": {
            "text/plain": [
              "array([1, 2, 5])"
            ]
          },
          "metadata": {},
          "execution_count": 22
        }
      ]
    },
    {
      "cell_type": "code",
      "source": [
        "a2[2] = 10\n",
        "a2"
      ],
      "metadata": {
        "colab": {
          "base_uri": "https://localhost:8080/"
        },
        "id": "OJylebJeLi61",
        "outputId": "add8efee-7990-4da6-dea3-e87cc4c8ed7b"
      },
      "execution_count": 23,
      "outputs": [
        {
          "output_type": "execute_result",
          "data": {
            "text/plain": [
              "array([ 1,  2, 10])"
            ]
          },
          "metadata": {},
          "execution_count": 23
        }
      ]
    },
    {
      "cell_type": "code",
      "source": [
        "a"
      ],
      "metadata": {
        "colab": {
          "base_uri": "https://localhost:8080/"
        },
        "id": "r-qYTQ-rLm2u",
        "outputId": "fedb5215-4b95-4532-d18a-936c79243e59"
      },
      "execution_count": 24,
      "outputs": [
        {
          "output_type": "execute_result",
          "data": {
            "text/plain": [
              "array([1, 2, 5])"
            ]
          },
          "metadata": {},
          "execution_count": 24
        }
      ]
    },
    {
      "cell_type": "markdown",
      "source": [
        "Sequence: "
      ],
      "metadata": {
        "id": "CDlh4GY5L0wj"
      }
    },
    {
      "cell_type": "code",
      "source": [
        "np.arange(10)"
      ],
      "metadata": {
        "id": "kAQwrGm9L3xZ"
      },
      "execution_count": null,
      "outputs": []
    },
    {
      "cell_type": "code",
      "source": [
        "np.arange(1, 11)"
      ],
      "metadata": {
        "colab": {
          "base_uri": "https://localhost:8080/"
        },
        "id": "ILkmt9xbL-iB",
        "outputId": "066fed5e-1ffd-492e-bd8e-7bb9ca040f9e"
      },
      "execution_count": 27,
      "outputs": [
        {
          "output_type": "execute_result",
          "data": {
            "text/plain": [
              "array([ 1,  2,  3,  4,  5,  6,  7,  8,  9, 10])"
            ]
          },
          "metadata": {},
          "execution_count": 27
        }
      ]
    },
    {
      "cell_type": "code",
      "source": [
        "np.arange(1, 11, 2)"
      ],
      "metadata": {
        "colab": {
          "base_uri": "https://localhost:8080/"
        },
        "id": "jpVK1I7mMDV7",
        "outputId": "fd1b86f9-5b38-4388-e967-0090aeab1476"
      },
      "execution_count": 28,
      "outputs": [
        {
          "output_type": "execute_result",
          "data": {
            "text/plain": [
              "array([1, 3, 5, 7, 9])"
            ]
          },
          "metadata": {},
          "execution_count": 28
        }
      ]
    },
    {
      "cell_type": "markdown",
      "source": [
        "Random number"
      ],
      "metadata": {
        "id": "hlCf0brjMH2R"
      }
    },
    {
      "cell_type": "code",
      "source": [
        "f_array = np.random.random((4, 2)) #0-1 hoorond\n",
        "f_array"
      ],
      "metadata": {
        "colab": {
          "base_uri": "https://localhost:8080/"
        },
        "id": "2P08fRAvMKF-",
        "outputId": "19d7cb0b-cbda-4121-e7be-722f5e877ca9"
      },
      "execution_count": 38,
      "outputs": [
        {
          "output_type": "execute_result",
          "data": {
            "text/plain": [
              "array([[0.18249173, 0.17545176],\n",
              "       [0.53155137, 0.53182759],\n",
              "       [0.63440096, 0.84943179],\n",
              "       [0.72445532, 0.61102351]])"
            ]
          },
          "metadata": {},
          "execution_count": 38
        }
      ]
    },
    {
      "cell_type": "code",
      "source": [
        "np.random.seed(123)   #seed function ashiglsnaar random toonuud uurchlugduhgui\n",
        "np.random.random((4, 2))"
      ],
      "metadata": {
        "colab": {
          "base_uri": "https://localhost:8080/"
        },
        "id": "bqKnY4TjNJ9H",
        "outputId": "236aa8f1-ac88-43f8-9ed4-8fbfd4ff1ffd"
      },
      "execution_count": 36,
      "outputs": [
        {
          "output_type": "execute_result",
          "data": {
            "text/plain": [
              "array([[0.69646919, 0.28613933],\n",
              "       [0.22685145, 0.55131477],\n",
              "       [0.71946897, 0.42310646],\n",
              "       [0.9807642 , 0.68482974]])"
            ]
          },
          "metadata": {},
          "execution_count": 36
        }
      ]
    },
    {
      "cell_type": "code",
      "source": [
        "np.random.seed(123)\n",
        "np.random.randint(1, 10)    #1-10 hoorond random int"
      ],
      "metadata": {
        "id": "NqAizWOmNm9f"
      },
      "execution_count": null,
      "outputs": []
    },
    {
      "cell_type": "code",
      "source": [
        "np.random.seed(123)\n",
        "np.random.randint(1, 10, (3, 5))  #1-10 hoornd 3x5 haritsaatai"
      ],
      "metadata": {
        "id": "jR-I7mQwOLsv"
      },
      "execution_count": null,
      "outputs": []
    },
    {
      "cell_type": "code",
      "source": [
        "np.random.seed(123)\n",
        "np.random.uniform(0.0, 5.0, size=(4, 2))"
      ],
      "metadata": {
        "id": "U6sLDYX9Onho"
      },
      "execution_count": null,
      "outputs": []
    },
    {
      "cell_type": "code",
      "source": [
        "np.random.seed(123)\n",
        "np.random.uniform(size=(4, 2))"
      ],
      "metadata": {
        "id": "Ok2Fdyi2PEbq"
      },
      "execution_count": null,
      "outputs": []
    },
    {
      "cell_type": "code",
      "source": [
        "np.random.seed(123)\n",
        "np.random.randn(4, 3)   #standard normal tugelt"
      ],
      "metadata": {
        "id": "VwDjPXumPKvW"
      },
      "execution_count": null,
      "outputs": []
    },
    {
      "cell_type": "markdown",
      "source": [
        "Various functions that generate arrays"
      ],
      "metadata": {
        "id": "ixBbxJZYPmT3"
      }
    },
    {
      "cell_type": "code",
      "source": [
        "np.zeros(3)"
      ],
      "metadata": {
        "colab": {
          "base_uri": "https://localhost:8080/"
        },
        "id": "mJYdPxfRPqXg",
        "outputId": "dd8d82b4-dce6-4b7b-c0ab-05d704e43b32"
      },
      "execution_count": 51,
      "outputs": [
        {
          "output_type": "execute_result",
          "data": {
            "text/plain": [
              "array([0., 0., 0.])"
            ]
          },
          "metadata": {},
          "execution_count": 51
        }
      ]
    },
    {
      "cell_type": "code",
      "source": [
        "np.zeros((3, 4))"
      ],
      "metadata": {
        "id": "iYRktLgjPuQt"
      },
      "execution_count": null,
      "outputs": []
    },
    {
      "cell_type": "code",
      "source": [
        "np.ones((2, 3))"
      ],
      "metadata": {
        "id": "XbJRPhqgPwm2"
      },
      "execution_count": null,
      "outputs": []
    },
    {
      "cell_type": "code",
      "source": [
        "np.eye(4)   #negj matrix uusgene"
      ],
      "metadata": {
        "id": "2eRWHUBoP3L3"
      },
      "execution_count": null,
      "outputs": []
    },
    {
      "cell_type": "code",
      "source": [
        "np.full(5,10)   #5 hemjeestei bugd 10"
      ],
      "metadata": {
        "colab": {
          "base_uri": "https://localhost:8080/"
        },
        "id": "DeMQixQiP-6V",
        "outputId": "08f521ba-fe1d-4d24-d2fc-fe8f06dc623a"
      },
      "execution_count": 56,
      "outputs": [
        {
          "output_type": "execute_result",
          "data": {
            "text/plain": [
              "array([10, 10, 10, 10, 10])"
            ]
          },
          "metadata": {},
          "execution_count": 56
        }
      ]
    },
    {
      "cell_type": "code",
      "source": [
        "np.full((2, 3), np.pi)"
      ],
      "metadata": {
        "colab": {
          "base_uri": "https://localhost:8080/"
        },
        "id": "tWTXcOzLQFyu",
        "outputId": "4cefa018-207b-4b5b-b0ef-2bf000eed59b"
      },
      "execution_count": 57,
      "outputs": [
        {
          "output_type": "execute_result",
          "data": {
            "text/plain": [
              "array([[3.14159265, 3.14159265, 3.14159265],\n",
              "       [3.14159265, 3.14159265, 3.14159265]])"
            ]
          },
          "metadata": {},
          "execution_count": 57
        }
      ]
    },
    {
      "cell_type": "code",
      "source": [
        "np.array([1, 2, 3, np.nan])   #nan "
      ],
      "metadata": {
        "colab": {
          "base_uri": "https://localhost:8080/"
        },
        "id": "Ck8R-jlJQUQ_",
        "outputId": "45ca20bd-841d-42c7-bab6-74833eebb110"
      },
      "execution_count": 58,
      "outputs": [
        {
          "output_type": "execute_result",
          "data": {
            "text/plain": [
              "array([ 1.,  2.,  3., nan])"
            ]
          },
          "metadata": {},
          "execution_count": 58
        }
      ]
    },
    {
      "cell_type": "code",
      "source": [
        "np.linspace(0, 1, 5)    #0-1g 4 huvaana"
      ],
      "metadata": {
        "colab": {
          "base_uri": "https://localhost:8080/"
        },
        "id": "CNta2X_1QgMy",
        "outputId": "7525cfb9-3b55-4f24-a385-3f1d408a2aa5"
      },
      "execution_count": 59,
      "outputs": [
        {
          "output_type": "execute_result",
          "data": {
            "text/plain": [
              "array([0.  , 0.25, 0.5 , 0.75, 1.  ])"
            ]
          },
          "metadata": {},
          "execution_count": 59
        }
      ]
    }
  ]
}